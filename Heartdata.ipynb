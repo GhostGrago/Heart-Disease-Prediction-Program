{
 "cells": [
  {
   "cell_type": "markdown",
   "id": "778be431-1d49-435c-ba1e-d938490be5f5",
   "metadata": {
    "tags": []
   },
   "source": [
    "# Predicting Heart Disease in Patients Using A KNN Classification Model \n",
    "\n",
    "### Introduction:\n",
    "Heart disease is the leading cause of death worldwide, accounting for millions of deaths every year. Early diagnosis and treatment of heart disease is crucial to improve patients' outcomes and quality of life. K-Nearest Neighbour (K-NN) Classification can help healthcare professionals more accurately and promptly diagnose heart disease. The question we aimed to answer using our K-NN classification model is whether a patient has heart disease using the patient’s cholesterol levels, age, maximum heart rate they can achieve, and resting blood pressure. \n",
    "\n",
    "To answer this question, we used the Heart Disease dataset from the UCI Machine Learning Repository, which contains 303 instances and 14 attributes. We selected these predictor variables based on their known associations with heart diseases. According to our research articles, these four attributes have the strongest association with developing heart disease. Other potential predictor variables, such as exercise induced angina and slope of the peak exercise ST segment, were omitted due to their weaker association with heart disease.\n",
    "\n",
    "### Methods & Results\n",
    "We will be utilizing K-NN classification to predict heart disease using the predictors: resting blood pressure (trestbps), age (age), cholesterol levels (chol) and maximum heart rate achieved (thalach). \n",
    "\n",
    "We have provided a detailed description describing our chosen predictors: \n",
    "    \n",
    "    1.trestbps: resting blood pressure in mmHg on admission to the hospital \n",
    "    2.age: age of patient in years\n",
    "    3.chol:  serum cholesterol in mg/dl \n",
    "    4.thalach: maximum heart rate achieved in bpm\n",
    "\n",
    "We chose these predictors because they are all strongly linked to heart disease. For example, older patients, specifically age 65+, are more likely to suffer from heart disease than younger patients due to a decrease in heart function and an increase in the stiffness of arteries with increasing age(reference 1). A higher resting blood pressure also increases the risk of heart disease as it adds to a patient's heart’s workload, making the heart less efficient (reference 2,3). Higher cholesterol levels also increase the patient’s risk for heart disease as it creates fatty deposits in their blood vessels that can eventually form a clot(reference 2,4). Lastly, the rate at which a patient's heart beats when it is working its hardest to meet their body's oxygen needs is their maximum heart rate. A higher maximum heart rate is associated with a lower risk of heart disease(reference 5). Given that all these predictors are strongly associated with the risk of heart disease, they are highly appropriate for integration into our classification model.  \n",
    "\n",
    "We will perform the following steps to perform the preliminary exploratory data analysis:\n",
    "    \n",
    "    1.Load data from Heart Disease dataset: We loaded the Heart Disease dataset from the UCI Machine Learning Repository using R in Jupyter notebook.\n",
    "    2.Data wrangling and cleaning into tidy format: We will clean and wrangle the data to remove missing values, pre-process the data by scaling and converting data to correct data type. \n",
    "    3.Split the data into training and testing sets: We will use the training data set to create a summary table and visualizations listed below.\n",
    "    4.Summarize Data into Table: We will make a table with columns only of the predictor values we chose as well as the “num” column that shows the diagnosis of the patient from integer values of 0-4. We then will use the “mutate” function with the “ifelse” argument to add another column that uses the values from the “num” column to tell us “no” if a patient does not have heart disease (num = 0), and “yes” if a patient has heart disease (num = 1- 4). We will then make a summary table using the training data to tell us the count of how many people in the dataset are diagnosed with heart disease. \n",
    "    5.Visualize Data: We will create 3 scatter plots with age for the y-axis for all, and cholesterol levels, maximum heart rate achieved, and resting blood pressure for the x-axis, respectively. We will color the points according to the diagnosis of heart disease (yes or no). \n",
    "    6.Create a summary table: We will create a summary table to summarize how many patients in the data set have and don’t have heart disease. We also found the mean values of the predictors: chol, trestbps, and thalach. \n",
    "\n",
    "    \n",
    "We will perform the following steps to train, evaluate, and tune the model:\n",
    "    \n",
    "    1.Preprocess data to standardize predictors: Using the recipe framework from tidymodels, we scaled and centered our chosen predictors, and constructed a recipe using only the training dataset. This step ensures that our test data does not influence any aspect of our model training. Scaling and centering the predictors also ensures that each predictor contributes equally to the model, which is important to improve the model's performance and accuracy. \n",
    "    2.Model specification: We created a model specification for K-nearest neighbors classification to find the optimal K. By finding the optimal K, we can improve the accuracy of the model and ensure its effectiveness.\n",
    "    3.Perform cross validation: We then ran a 5-fold cross-validation for a grid of numbers of neighbors ranging from 1 to 70, and put the recipe and specification together in a workflow. Cross validation allows us to visualize the relationship between the number of neighbors and the accuracy of the model, which can help us to identify the optimal number of neighbors for the model. \n",
    "    4.Visualize the accuracy for a range of K values: We will create a line graph by plotting accuracy versus K to help us visualize which number of neighbors is the best. We will then take the maximum accuracy for a particular value of K to find the best number of neighbors. \n",
    "    5.Re-training the model with the best K: Once we know the value for K that yields  the highest accuracy estimate, we will use that to re-train the model on the entire training data set.\n",
    "    6.Evaluate model using test data: To assess how well our model might do at predicting on unseen data, we will assess its accuracy on the test data. We will use the “predict” function to make predictions on the test data, and use the “metrics” function again to compute the summary of the model’s accuracy. Determining the accuracy of the model is important to assess the model's ability to generalize to new data and its overall effectiveness in making accurate predictions.\n",
    "\n",
    "### Discussion\n",
    "The KNN classification model applied to the Heart Disease dataset yielded an accuracy of 63%, indicating that it could correctly identify patients with heart disease 63% of the time.\n",
    "This suggested that the selected predictor variables, including age, cholesterol levels, maximum heart rate, and resting blood pressure, were not as effective in predicting the presence of heart disease as initially believed. This was surprising, as these predictors are well-established risk factors for heart disease, and one would expect them to yield a model with higher accuracy. However, despite this limitation, the model achieved moderate success in accurately identifying the presence or absence of heart disease in 48 out of 76 total observations.\n",
    "\n",
    "This level of accuracy suggests that the model could potentially be a helpful tool for healthcare professionals for heart disease diagnosis. However, due to the accuracy not being high enough for a medical tool, it should be noted that this KNN classification model can not be the sole method for diagnosing heart disease. This could result in misdiagnosis which could harm patients' health and wellbeing.\n",
    "\n",
    "Despite its current limitations, our KNN classification model has the potential to make a significant contribution to the medical community by contributing to more effective Heart Disease diagnoses. To achieve this, we can make a few modifications to the model. For example, for the future, we could utilize feature selection techniques to identify and incorporate only the most relevant features for the model, thereby enhancing its accuracy. By doing so, we can provide faster and more accurate diagnoses, leading to earlier treatment and potentially saving lives. Additionally, patients can use our model by inputting their data from simple tests such as lipid profile, sphygmomanometer, and pulse measurements, making it a more accessible and convenient option to predict heart disease. If a patient is diagnosed with heart disease, some further questions that it would lead would be what stage of heart disease the patient is at and what treatment plans would be best for them, considering the stage of heart disease they are diagnosed with. \n",
    "\n",
    "### References\n",
    "\n",
    "    1.NIH National Institute on Aging. (2018). Heart health and aging. National Institute on Aging. https://www.nia.nih.gov/health/heart-health-and-aging \n",
    "    2.Centers for Disease Control and Prevention. (2023, March 21). Know your risk for heart disease. Centers for Disease Control and Prevention. https://www.cdc.gov/heartdisease/risk_factors.htm#:~:text=About%20half%20of%20all%20Americans,%2C%20high%20cholesterol%2C%20and%20smoking.&text=Some%20risk%20factors%20for%20heart,the%20factors%20you%20can%20control\n",
    "    3.American Heart Association. (2022, March 4). How high blood pressure can lead to heart failure. American Heart Association. https://www.heart.org/en/health-topics/high-blood-pressure/health-threats-from-high-blood-pressure/how-high-blood-pressure-can-lead-to-heart-failure \n",
    "    4.Mayo Clinic. (2023, January 11). High cholesterol. Mayo Clinic. https://www.mayoclinic.org/diseases-conditions/high-blood-cholesterol/symptoms-causes/syc-20350800 \n",
    "    5.Harvard Health Publishing. (2020, August 30). What your heart rate is telling you. Harvard Health. https://www.health.harvard.edu/heart-health/what-your-heart-rate-is-telling-you\n",
    "    6.Dua, D. and Graff, C. (2019). UCI Machine Learning Repository. Irvine, CA: University of California, School of Information and Computer Science. http://archive.ics.uci.edu/ml.\n"
   ]
  },
  {
   "cell_type": "code",
   "execution_count": 1,
   "id": "30ff8738-d313-4de7-9894-72925ebf33aa",
   "metadata": {},
   "outputs": [
    {
     "name": "stderr",
     "output_type": "stream",
     "text": [
      "── \u001b[1mAttaching packages\u001b[22m ─────────────────────────────────────── tidyverse 1.3.1 ──\n",
      "\n",
      "\u001b[32m✔\u001b[39m \u001b[34mggplot2\u001b[39m 3.3.6     \u001b[32m✔\u001b[39m \u001b[34mpurrr  \u001b[39m 0.3.4\n",
      "\u001b[32m✔\u001b[39m \u001b[34mtibble \u001b[39m 3.1.8     \u001b[32m✔\u001b[39m \u001b[34mdplyr  \u001b[39m 1.0.9\n",
      "\u001b[32m✔\u001b[39m \u001b[34mtidyr  \u001b[39m 1.2.0     \u001b[32m✔\u001b[39m \u001b[34mstringr\u001b[39m 1.4.0\n",
      "\u001b[32m✔\u001b[39m \u001b[34mreadr  \u001b[39m 2.1.2     \u001b[32m✔\u001b[39m \u001b[34mforcats\u001b[39m 0.5.1\n",
      "\n",
      "Warning message:\n",
      "“package ‘ggplot2’ was built under R version 4.1.3”\n",
      "Warning message:\n",
      "“package ‘tidyr’ was built under R version 4.1.2”\n",
      "Warning message:\n",
      "“package ‘readr’ was built under R version 4.1.2”\n",
      "Warning message:\n",
      "“package ‘dplyr’ was built under R version 4.1.3”\n",
      "── \u001b[1mConflicts\u001b[22m ────────────────────────────────────────── tidyverse_conflicts() ──\n",
      "\u001b[31m✖\u001b[39m \u001b[34mdplyr\u001b[39m::\u001b[32mfilter()\u001b[39m masks \u001b[34mstats\u001b[39m::filter()\n",
      "\u001b[31m✖\u001b[39m \u001b[34mdplyr\u001b[39m::\u001b[32mlag()\u001b[39m    masks \u001b[34mstats\u001b[39m::lag()\n",
      "\n",
      "Warning message:\n",
      "“package ‘tidymodels’ was built under R version 4.1.3”\n",
      "── \u001b[1mAttaching packages\u001b[22m ────────────────────────────────────── tidymodels 1.0.0 ──\n",
      "\n",
      "\u001b[32m✔\u001b[39m \u001b[34mbroom       \u001b[39m 1.0.0     \u001b[32m✔\u001b[39m \u001b[34mrsample     \u001b[39m 1.0.0\n",
      "\u001b[32m✔\u001b[39m \u001b[34mdials       \u001b[39m 1.0.0     \u001b[32m✔\u001b[39m \u001b[34mtune        \u001b[39m 1.0.0\n",
      "\u001b[32m✔\u001b[39m \u001b[34minfer       \u001b[39m 1.0.2     \u001b[32m✔\u001b[39m \u001b[34mworkflows   \u001b[39m 1.0.0\n",
      "\u001b[32m✔\u001b[39m \u001b[34mmodeldata   \u001b[39m 1.0.0     \u001b[32m✔\u001b[39m \u001b[34mworkflowsets\u001b[39m 1.0.0\n",
      "\u001b[32m✔\u001b[39m \u001b[34mparsnip     \u001b[39m 1.0.0     \u001b[32m✔\u001b[39m \u001b[34myardstick   \u001b[39m 1.0.0\n",
      "\u001b[32m✔\u001b[39m \u001b[34mrecipes     \u001b[39m 1.0.1     \n",
      "\n",
      "Warning message:\n",
      "“package ‘broom’ was built under R version 4.1.3”\n",
      "Warning message:\n",
      "“package ‘dials’ was built under R version 4.1.3”\n",
      "Warning message:\n",
      "“package ‘scales’ was built under R version 4.1.3”\n",
      "Warning message:\n",
      "“package ‘infer’ was built under R version 4.1.3”\n",
      "Warning message:\n",
      "“package ‘modeldata’ was built under R version 4.1.3”\n",
      "Warning message:\n",
      "“package ‘parsnip’ was built under R version 4.1.3”\n",
      "Warning message:\n",
      "“package ‘recipes’ was built under R version 4.1.3”\n",
      "Warning message:\n",
      "“package ‘rsample’ was built under R version 4.1.3”\n",
      "Warning message:\n",
      "“package ‘tune’ was built under R version 4.1.3”\n",
      "Warning message:\n",
      "“package ‘workflows’ was built under R version 4.1.3”\n",
      "Warning message:\n",
      "“package ‘workflowsets’ was built under R version 4.1.3”\n",
      "Warning message:\n",
      "“package ‘yardstick’ was built under R version 4.1.3”\n",
      "── \u001b[1mConflicts\u001b[22m ───────────────────────────────────────── tidymodels_conflicts() ──\n",
      "\u001b[31m✖\u001b[39m \u001b[34mscales\u001b[39m::\u001b[32mdiscard()\u001b[39m masks \u001b[34mpurrr\u001b[39m::discard()\n",
      "\u001b[31m✖\u001b[39m \u001b[34mdplyr\u001b[39m::\u001b[32mfilter()\u001b[39m   masks \u001b[34mstats\u001b[39m::filter()\n",
      "\u001b[31m✖\u001b[39m \u001b[34mrecipes\u001b[39m::\u001b[32mfixed()\u001b[39m  masks \u001b[34mstringr\u001b[39m::fixed()\n",
      "\u001b[31m✖\u001b[39m \u001b[34mdplyr\u001b[39m::\u001b[32mlag()\u001b[39m      masks \u001b[34mstats\u001b[39m::lag()\n",
      "\u001b[31m✖\u001b[39m \u001b[34myardstick\u001b[39m::\u001b[32mspec()\u001b[39m masks \u001b[34mreadr\u001b[39m::spec()\n",
      "\u001b[31m✖\u001b[39m \u001b[34mrecipes\u001b[39m::\u001b[32mstep()\u001b[39m   masks \u001b[34mstats\u001b[39m::step()\n",
      "\u001b[34m•\u001b[39m Use suppressPackageStartupMessages() to eliminate package startup messages\n",
      "\n",
      "Updating HTML index of packages in '.Library'\n",
      "\n",
      "Making 'packages.html' ...\n",
      " done\n",
      "\n",
      "Updating HTML index of packages in '.Library'\n",
      "\n",
      "Making 'packages.html' ...\n",
      " done\n",
      "\n"
     ]
    }
   ],
   "source": [
    "library(tidyverse)\n",
    "library(repr)\n",
    "library(tidymodels)\n",
    "\n",
    "options(repr.matrix.max.rows = 6)\n",
    "install.packages(\"GGally\")\n",
    "install.packages(\"kknn\")"
   ]
  },
  {
   "cell_type": "markdown",
   "id": "92c447ff-b5e0-4622-b2b5-bbf4f5d832be",
   "metadata": {},
   "source": [
    "Import heart data from web:"
   ]
  },
  {
   "cell_type": "code",
   "execution_count": 2,
   "id": "223cf656-f960-48ee-bd7c-e377205501f9",
   "metadata": {},
   "outputs": [
    {
     "name": "stderr",
     "output_type": "stream",
     "text": [
      "\u001b[1mRows: \u001b[22m\u001b[34m303\u001b[39m \u001b[1mColumns: \u001b[22m\u001b[34m14\u001b[39m\n",
      "\u001b[36m──\u001b[39m \u001b[1mColumn specification\u001b[22m \u001b[36m────────────────────────────────────────────────────────\u001b[39m\n",
      "\u001b[1mDelimiter:\u001b[22m \",\"\n",
      "\u001b[31mchr\u001b[39m  (2): ca, thal\n",
      "\u001b[32mdbl\u001b[39m (12): age, sex, cp, trestbps, chol, fbs, restecg, thalach, exang, oldpea...\n",
      "\n",
      "\u001b[36mℹ\u001b[39m Use `spec()` to retrieve the full column specification for this data.\n",
      "\u001b[36mℹ\u001b[39m Specify the column types or set `show_col_types = FALSE` to quiet this message.\n"
     ]
    },
    {
     "data": {
      "text/html": [
       "<table class=\"dataframe\">\n",
       "<caption>A tibble: 303 × 5</caption>\n",
       "<thead>\n",
       "\t<tr><th scope=col>age</th><th scope=col>trestbps</th><th scope=col>chol</th><th scope=col>thalach</th><th scope=col>num</th></tr>\n",
       "\t<tr><th scope=col>&lt;dbl&gt;</th><th scope=col>&lt;dbl&gt;</th><th scope=col>&lt;dbl&gt;</th><th scope=col>&lt;dbl&gt;</th><th scope=col>&lt;dbl&gt;</th></tr>\n",
       "</thead>\n",
       "<tbody>\n",
       "\t<tr><td>63</td><td>145</td><td>233</td><td>150</td><td>0</td></tr>\n",
       "\t<tr><td>67</td><td>160</td><td>286</td><td>108</td><td>2</td></tr>\n",
       "\t<tr><td>67</td><td>120</td><td>229</td><td>129</td><td>1</td></tr>\n",
       "\t<tr><td>⋮</td><td>⋮</td><td>⋮</td><td>⋮</td><td>⋮</td></tr>\n",
       "\t<tr><td>57</td><td>130</td><td>131</td><td>115</td><td>3</td></tr>\n",
       "\t<tr><td>57</td><td>130</td><td>236</td><td>174</td><td>1</td></tr>\n",
       "\t<tr><td>38</td><td>138</td><td>175</td><td>173</td><td>0</td></tr>\n",
       "</tbody>\n",
       "</table>\n"
      ],
      "text/latex": [
       "A tibble: 303 × 5\n",
       "\\begin{tabular}{lllll}\n",
       " age & trestbps & chol & thalach & num\\\\\n",
       " <dbl> & <dbl> & <dbl> & <dbl> & <dbl>\\\\\n",
       "\\hline\n",
       "\t 63 & 145 & 233 & 150 & 0\\\\\n",
       "\t 67 & 160 & 286 & 108 & 2\\\\\n",
       "\t 67 & 120 & 229 & 129 & 1\\\\\n",
       "\t ⋮ & ⋮ & ⋮ & ⋮ & ⋮\\\\\n",
       "\t 57 & 130 & 131 & 115 & 3\\\\\n",
       "\t 57 & 130 & 236 & 174 & 1\\\\\n",
       "\t 38 & 138 & 175 & 173 & 0\\\\\n",
       "\\end{tabular}\n"
      ],
      "text/markdown": [
       "\n",
       "A tibble: 303 × 5\n",
       "\n",
       "| age &lt;dbl&gt; | trestbps &lt;dbl&gt; | chol &lt;dbl&gt; | thalach &lt;dbl&gt; | num &lt;dbl&gt; |\n",
       "|---|---|---|---|---|\n",
       "| 63 | 145 | 233 | 150 | 0 |\n",
       "| 67 | 160 | 286 | 108 | 2 |\n",
       "| 67 | 120 | 229 | 129 | 1 |\n",
       "| ⋮ | ⋮ | ⋮ | ⋮ | ⋮ |\n",
       "| 57 | 130 | 131 | 115 | 3 |\n",
       "| 57 | 130 | 236 | 174 | 1 |\n",
       "| 38 | 138 | 175 | 173 | 0 |\n",
       "\n"
      ],
      "text/plain": [
       "    age trestbps chol thalach num\n",
       "1   63  145      233  150     0  \n",
       "2   67  160      286  108     2  \n",
       "3   67  120      229  129     1  \n",
       "⋮   ⋮   ⋮        ⋮    ⋮       ⋮  \n",
       "301 57  130      131  115     3  \n",
       "302 57  130      236  174     1  \n",
       "303 38  138      175  173     0  "
      ]
     },
     "metadata": {},
     "output_type": "display_data"
    }
   ],
   "source": [
    "name <- c(\"age\", \"sex\", \"cp\", \"trestbps\", \"chol\", \"fbs\", \"restecg\", \"thalach\", \"exang\", \"oldpeak\", \"slope\", \"ca\", \"thal\", \"num\")\n",
    "\n",
    "heartdata <- read_csv(\"https://archive.ics.uci.edu/ml/machine-learning-databases/heart-disease/processed.cleveland.data\",col_names = name) |>\n",
    "    select(age, trestbps, chol, thalach,num)\n",
    "\n",
    "heartdata"
   ]
  },
  {
   "cell_type": "markdown",
   "id": "0bba6a87-ba75-4a36-9447-52662a4dd26a",
   "metadata": {},
   "source": [
    "Categorize different heart diseases into only two categories: either have it or not:"
   ]
  },
  {
   "cell_type": "code",
   "execution_count": 3,
   "id": "19afe685-3904-49f5-bcd6-63858e1fd0cd",
   "metadata": {},
   "outputs": [
    {
     "ename": "ERROR",
     "evalue": "Error in tab_header(mutate(heartdata, heart_disease = ifelse(num > 0, : could not find function \"tab_header\"\n",
     "output_type": "error",
     "traceback": [
      "Error in tab_header(mutate(heartdata, heart_disease = ifelse(num > 0, : could not find function \"tab_header\"\nTraceback:\n"
     ]
    }
   ],
   "source": [
    "heartdata <- heartdata |>\n",
    "    mutate(heart_disease = ifelse(num > 0, \"yes\", \"no\"))\n",
    "\n",
    "\n",
    "heartdata"
   ]
  },
  {
   "cell_type": "markdown",
   "id": "8055a869-efb2-4c07-be7b-e97df18bc94c",
   "metadata": {},
   "source": [
    "Split data frame to obtain trainning and testing data:"
   ]
  },
  {
   "cell_type": "code",
   "execution_count": null,
   "id": "639c2a09-6cf0-43ce-a4ea-ff6182c57490",
   "metadata": {},
   "outputs": [],
   "source": [
    "set.seed(2023)\n",
    "heart_split <- initial_split(heartdata, prop = 0.75, strata = heart_disease)  \n",
    "heart_train <- training(heart_split)   \n",
    "heart_test <- testing(heart_split)"
   ]
  },
  {
   "cell_type": "markdown",
   "id": "df5d3052-b771-4299-bb6c-9af4599987ef",
   "metadata": {},
   "source": [
    "Data visualization:"
   ]
  },
  {
   "cell_type": "code",
   "execution_count": null,
   "id": "cc204ca6-3ac4-4968-ba52-276f36117d35",
   "metadata": {},
   "outputs": [],
   "source": [
    "options(repr.plot.width = 7, repr.plot.height = 5)\n",
    "\n",
    "p1 <- heart_train |>  \n",
    "    ggplot(aes(x= chol, \n",
    "               y= age, \n",
    "               color = heart_disease)) +\n",
    "        labs(x = \"Cholestoral (mg/dl)\",\n",
    "             y = \"Age\",\n",
    "            colour = 'Has heart disease') +\n",
    "        geom_point(stat = \"identity\") +\n",
    "        theme(text = element_text(size = 15)) +\n",
    "        ggtitle(\"Cholesterol VS Age\")\n",
    "\n",
    "p2 <- heart_train |>  \n",
    "    ggplot(aes(x= thalach, \n",
    "               y= age, \n",
    "               color = heart_disease)) +\n",
    "        labs(x = \"Maximum heart rate achieved\",\n",
    "             y = \"Age\",\n",
    "            colour = 'Has heart disease') +\n",
    "        geom_point(stat = \"identity\") +\n",
    "        theme(text = element_text(size = 15)) +\n",
    "        ggtitle(\"Heart rate VS Age\")\n",
    "\n",
    "\n",
    "p3 <- heart_train |>  \n",
    "    ggplot(aes(x= trestbps, \n",
    "               y= age, \n",
    "               color = heart_disease)) +\n",
    "        labs(x = \"Resting blood pressure\",\n",
    "             y = \"Age\",\n",
    "            colour = 'Has heart disease') +\n",
    "        geom_point(stat = \"identity\") +\n",
    "        theme(text = element_text(size = 15)) +\n",
    "        ggtitle(\"Blood pressure VS Age\")\n",
    "\n",
    "layout(matrix(3:1, nrow = 1))\n",
    "\n",
    "p1\n",
    "p2\n",
    "p3"
   ]
  },
  {
   "cell_type": "markdown",
   "id": "cf9c7554-141a-43d9-8b44-1b7b2c01c505",
   "metadata": {},
   "source": [
    "Summarize the number of people has or does not have heart disease and mean value of 'Cholesterol', 'Maximum heart rate' and 'Resting blood pressure' :"
   ]
  },
  {
   "cell_type": "code",
   "execution_count": null,
   "id": "6933dfc5-ee1b-49cf-a55b-acf0b72494ac",
   "metadata": {},
   "outputs": [],
   "source": [
    "counts <- heart_train |>\n",
    "group_by(heart_disease) |>\n",
    "summarize (count = n())\n",
    "\n",
    "mean <- \n",
    "colMeans(heart_train[ , c(2: 4)])\n",
    "\n",
    "counts\n",
    "mean"
   ]
  },
  {
   "cell_type": "markdown",
   "id": "8d835883-7213-4273-ae9a-8ee80d9f029f",
   "metadata": {},
   "source": [
    "Create recipe and specification for classification:"
   ]
  },
  {
   "cell_type": "code",
   "execution_count": null,
   "id": "671cac64-9eba-4918-9cd9-2c652c22c118",
   "metadata": {},
   "outputs": [],
   "source": [
    "heart_recipe <- recipe(heart_disease ~ age + chol + thalach + trestbps, data = heart_train) |>\n",
    "   step_scale(all_predictors()) |>\n",
    "   step_center(all_predictors())"
   ]
  },
  {
   "cell_type": "code",
   "execution_count": null,
   "id": "e152fa0d-2b7e-4a47-a306-a7c377a90927",
   "metadata": {},
   "outputs": [],
   "source": [
    "knn_spec <- nearest_neighbor(weight_func = \"rectangular\", neighbors = tune()) |>\n",
    "      set_engine(\"kknn\") |>\n",
    "      set_mode(\"classification\")\n"
   ]
  },
  {
   "cell_type": "markdown",
   "id": "b8953cc4-7e7f-4244-bfdc-0abd76f9668a",
   "metadata": {},
   "source": [
    "Five-fold Validation to find best K:"
   ]
  },
  {
   "cell_type": "code",
   "execution_count": null,
   "id": "415fdd96-9cdf-446f-9f21-4e3946b07725",
   "metadata": {},
   "outputs": [],
   "source": [
    "heart_vfold <- vfold_cv(heart_train, v = 5, strata = heart_disease)\n",
    "k_vals <-tibble(neighbors =seq(from =1, to =70, by =5))"
   ]
  },
  {
   "cell_type": "code",
   "execution_count": null,
   "id": "81160648-85a4-477c-bcce-d75e055fcd51",
   "metadata": {},
   "outputs": [],
   "source": [
    "heart_fit <- workflow() |>\n",
    "      add_recipe(heart_recipe) |>\n",
    "      add_model(knn_spec) |>\n",
    "      tune_grid(resamples = heart_vfold, grid = k_vals)"
   ]
  },
  {
   "cell_type": "code",
   "execution_count": null,
   "id": "813f9e55-6a44-404b-a3a2-5a11c74655e9",
   "metadata": {},
   "outputs": [],
   "source": [
    "knn_results <- heart_fit |>  \n",
    "    collect_metrics() |>\n",
    "    filter(.metric == \"accuracy\")\n",
    "\n",
    "knn_results"
   ]
  },
  {
   "cell_type": "code",
   "execution_count": null,
   "id": "c408fbdb-d047-4dd3-b433-41fff33c532d",
   "metadata": {},
   "outputs": [],
   "source": [
    "accuracy_versus_k <- ggplot(knn_results, aes(x = neighbors, y = mean))+\n",
    "      geom_point() +\n",
    "      geom_line() +\n",
    "      labs(x = \"Neighbors\", y = \"Accuracy Estimate\")  +\n",
    "        ggtitle(\"Accuracy for different K value\")\n",
    "\n",
    "accuracy_versus_k"
   ]
  },
  {
   "cell_type": "markdown",
   "id": "24c6bd83-e961-4b8a-9ea8-73ac82ae56fe",
   "metadata": {},
   "source": [
    "Best K value:"
   ]
  },
  {
   "cell_type": "code",
   "execution_count": null,
   "id": "61836397-d0e9-46f9-b981-29003226b6d7",
   "metadata": {},
   "outputs": [],
   "source": [
    "best_k <- knn_results |>\n",
    "    filter(mean == max(mean)) |>\n",
    "    pull(neighbors)\n",
    "\n",
    "best_k"
   ]
  },
  {
   "cell_type": "code",
   "execution_count": null,
   "id": "6f9165be-9fa9-4dbe-a996-e7206ab2bb23",
   "metadata": {},
   "outputs": [],
   "source": [
    "best_k_spec <- nearest_neighbor(weight_func = \"rectangular\", neighbors = best_k) |>\n",
    "      set_engine(\"kknn\") |>\n",
    "      set_mode(\"classification\")\n",
    "\n",
    "best_k_fit <- workflow() |>\n",
    "  add_recipe(heart_recipe) |>\n",
    "  add_model(best_k_spec) |>\n",
    "  fit(data = heart_train)"
   ]
  },
  {
   "cell_type": "markdown",
   "id": "6d7188c4-b112-4915-82a3-335240f8a1bc",
   "metadata": {},
   "source": [
    "Testing and calculate accuracy:"
   ]
  },
  {
   "cell_type": "code",
   "execution_count": null,
   "id": "830cb3d0-d621-4fc5-9d4b-5ee75eab7109",
   "metadata": {},
   "outputs": [],
   "source": [
    "predictions <- predict(best_k_fit , heart_test) |>\n",
    "       bind_cols(heart_test) |>\n",
    "        mutate(heart_disease = as_factor(heart_disease))\n",
    "\n",
    "metrics <- predictions |>\n",
    "        metrics(truth = heart_disease, estimate = .pred_class) |>\n",
    "        filter(.metric == \"accuracy\") |>\n",
    "        pull(.estimate)\n",
    "\n",
    "conf_mat <- predictions |> \n",
    "      conf_mat(truth = heart_disease, estimate = .pred_class)\n",
    "\n",
    "predictions\n",
    "metrics\n",
    "conf_mat"
   ]
  }
 ],
 "metadata": {
  "kernelspec": {
   "display_name": "R",
   "language": "R",
   "name": "ir"
  },
  "language_info": {
   "codemirror_mode": "r",
   "file_extension": ".r",
   "mimetype": "text/x-r-source",
   "name": "R",
   "pygments_lexer": "r",
   "version": "4.1.1"
  }
 },
 "nbformat": 4,
 "nbformat_minor": 5
}
